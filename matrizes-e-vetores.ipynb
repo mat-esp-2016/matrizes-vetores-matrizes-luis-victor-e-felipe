{
 "cells": [
  {
   "cell_type": "markdown",
   "metadata": {},
   "source": [
    "# Matrizes e vetores"
   ]
  },
  {
   "cell_type": "markdown",
   "metadata": {},
   "source": [
    "## License\n",
    "\n",
    "All content can be freely used and adapted under the terms of the \n",
    "[Creative Commons Attribution 4.0 International License](http://creativecommons.org/licenses/by/4.0/).\n",
    "\n",
    "![Creative Commons License](https://i.creativecommons.org/l/by/4.0/88x31.png)"
   ]
  },
  {
   "cell_type": "markdown",
   "metadata": {},
   "source": [
    "## Representação de uma matriz\n",
    "\n",
    "Antes de podermos manipular matrizes e vetores no computador, precisamos de um jeito de armazená-los em variáveis.\n",
    "Para vetores, o candidato natural são **listas**.\n",
    "\n",
    "$$\n",
    "\\mathbf{v} = \\begin{bmatrix}1 \\\\ 2 \\\\ 3\\end{bmatrix}\n",
    "$$\n",
    "\n",
    "O vetor acima poderia ser representado em código como:\n",
    "\n"
   ]
  },
  {
   "cell_type": "code",
   "execution_count": null,
   "metadata": {
    "collapsed": false
   },
   "outputs": [],
   "source": [
    "v = [1, 2, 3]\n",
    "print(v)"
   ]
  },
  {
   "cell_type": "markdown",
   "metadata": {},
   "source": [
    "Uma matriz pode ser vista como um conjunto de vetores, ou um vetor de vetores. Cada vetor seria equivalente a uma linha da matriz:\n",
    "\n",
    "$$\n",
    "\\mathbf{A} =\n",
    "\\begin{bmatrix}\n",
    "1 & 2 & 3 \\\\\n",
    "4 & 5 & 6 \\\\\n",
    "7 & 8 & 9 \\\\\n",
    "\\end{bmatrix} =\n",
    "\\begin{bmatrix}\n",
    "[1 & 2 & 3] \\\\\n",
    "[4 & 5 & 6] \\\\\n",
    "[7 & 8 & 9] \\\\\n",
    "\\end{bmatrix}\n",
    "$$\n",
    "\n",
    "Logo, um jeito de representar uma matriz em Python é através de uma **lista de listas**:"
   ]
  },
  {
   "cell_type": "code",
   "execution_count": null,
   "metadata": {
    "collapsed": false
   },
   "outputs": [],
   "source": [
    "A = [[1, 2, 3], [4, 5, 6], [7, 8, 9]]\n",
    "print(A)"
   ]
  },
  {
   "cell_type": "markdown",
   "metadata": {},
   "source": [
    "O Python permite quebrar a linha quando o comando está entre `[` ou `(`:"
   ]
  },
  {
   "cell_type": "code",
   "execution_count": null,
   "metadata": {
    "collapsed": false
   },
   "outputs": [],
   "source": [
    "A = [[1, 2, 3],\n",
    "     [4, 5, 6],\n",
    "     [7, 8, 9]]\n",
    "print(A)"
   ]
  },
  {
   "cell_type": "markdown",
   "metadata": {},
   "source": [
    "*Note que o print acima imprime a matriz toda em uma única linha*.\n",
    "\n",
    "A matriz `A` é uma lista como qualquer outra. A única diferença é que **os elementos da lista são outras listas**. O elemnto `[0]` da lista `A` será a lista correspondente a primeira linha:"
   ]
  },
  {
   "cell_type": "code",
   "execution_count": null,
   "metadata": {
    "collapsed": false
   },
   "outputs": [],
   "source": [
    "print(A[0])"
   ]
  },
  {
   "cell_type": "markdown",
   "metadata": {},
   "source": [
    "Como `A[0]` é uma lista, podemos pegar os elementos dessa lista da mesma forma:"
   ]
  },
  {
   "cell_type": "code",
   "execution_count": null,
   "metadata": {
    "collapsed": false
   },
   "outputs": [],
   "source": [
    "print(A[0][0])\n",
    "print(A[1][2])"
   ]
  },
  {
   "cell_type": "markdown",
   "metadata": {},
   "source": [
    "### Exemplo\n",
    "\n",
    "Queremos imprimir cada elemento da matriz `A` da seguinte forma:\n",
    "\n",
    "    1  2  3  \n",
    "    4  5  6  \n",
    "    7  8  9\n",
    "\n",
    "Podemos utilizar o `for` para pegar cada linha da matriz. Para cada linha da matriz, queremos imprimir o elemento. Quando terminarmos de imprimir a linha, vamos pular uma linha."
   ]
  },
  {
   "cell_type": "code",
   "execution_count": 5,
   "metadata": {
    "collapsed": false
   },
   "outputs": [
    {
     "name": "stdout",
     "output_type": "stream",
     "text": [
      "1  2  3  \n",
      "4  5  6  \n",
      "7  8  9  \n"
     ]
    }
   ],
   "source": [
    "for i in range(3): # Anda sobre as linhas\n",
    "    for j in range(3): # Anda sobre as colunas\n",
    "        print(A[i][j], ' ', end='') # end='' faz com que print não pule uma linha\n",
    "    print() # Imprime nada e pula uma linha"
   ]
  },
  {
   "cell_type": "markdown",
   "metadata": {},
   "source": [
    "## Somando matrizes\n",
    "\n",
    "A soma de duas matrizes produz uma matriz que terá a soma dos elementos correspondentes:\n",
    "\n",
    "$$\n",
    "\\begin{bmatrix}\n",
    "a & b & c \\\\\n",
    "d & e & f \\\\\n",
    "g & h & i \\\\\n",
    "\\end{bmatrix} +\n",
    "\\begin{bmatrix}\n",
    "j & l & m \\\\\n",
    "n & o & p \\\\\n",
    "q & r & s \\\\\n",
    "\\end{bmatrix} =\n",
    "\\begin{bmatrix}\n",
    "a + j & b + l & c + m \\\\\n",
    "d + n & e + o & f + p \\\\\n",
    "g + q & h + r & i + s \\\\\n",
    "\\end{bmatrix}\n",
    "$$\n",
    "\n",
    "De forma genérica, o $j$-ésimo elemento da $i$-ésima linha de uma matriz $\\mathbf{A}$ é $A_{ij}$.\n",
    "Se temos duas matrizes $\\mathbf{A}$ e $\\mathbf{B}$, a soma pode ser escrita como:\n",
    "\n",
    "$$\n",
    "C_{ij} = A_{ij} + B_{ij}\n",
    "$$"
   ]
  },
  {
   "cell_type": "markdown",
   "metadata": {},
   "source": [
    "## Tarefa\n",
    "\n",
    "Some as matrizes `A` e `B` definidas abaixo e guarde o resultado em uma matriz `C`. Imprima a matriz `C`.\n",
    "\n",
    "**Dicas**:\n",
    "\n",
    "* Você pode criar a matriz `C` antes ou durante a soma. Lembre-se que a matriz é uma lista e listas possuem o método `append`."
   ]
  },
  {
   "cell_type": "code",
   "execution_count": 1,
   "metadata": {
    "collapsed": true
   },
   "outputs": [],
   "source": [
    "A = [[1, 2, 3],\n",
    "     [4, 5, 6],\n",
    "     [7, 8, 9]]\n",
    "B = [[3, 4, 5],\n",
    "     [6, 7, 8],\n",
    "     [9, 10, 11]]\n",
    "nlin_a = 3\n",
    "nlin_b = 3\n",
    "ncol_a = 3\n",
    "ncol_b = 3"
   ]
  },
  {
   "cell_type": "code",
   "execution_count": 9,
   "metadata": {
    "collapsed": false
   },
   "outputs": [
    {
     "name": "stdout",
     "output_type": "stream",
     "text": [
      "4  6  8  \n",
      "10  12  14  \n",
      "16  18  20  \n"
     ]
    }
   ],
   "source": [
    "c = []\n",
    "for i in range (3):\n",
    "    c.append([]) #cria uma linha na matriz soma\n",
    "    for j in range (3):\n",
    "        soma = A[i][j] + B[i][j] # soma é a variável para a soma das matrizes A e B\n",
    "        c[i].append(soma)\n",
    "        print(c[i][j], ' ', end='') # end ='' não pula as linhas no print\n",
    "    print () # imprime vazio e pula uma linha"
   ]
  },
  {
   "cell_type": "code",
   "execution_count": 10,
   "metadata": {
    "collapsed": false
   },
   "outputs": [
    {
     "name": "stdout",
     "output_type": "stream",
     "text": [
      "[[4, 6, 8], [10, 12, 14], [16, 18, 20]]\n"
     ]
    }
   ],
   "source": [
    "print (matriz_soma) # mostrando a diferença de fazer com o end=\"\" e um print sem uma  "
   ]
  },
  {
   "cell_type": "markdown",
   "metadata": {},
   "source": [
    "### Resultado esperado\n",
    "\n",
    "Seu código deve imprimir exatamente:\n",
    "\n",
    "    4  6  8  \n",
    "    10  12  14  \n",
    "    16  18  20  "
   ]
  },
  {
   "cell_type": "markdown",
   "metadata": {},
   "source": [
    "## Multiplicando uma matriz por um vetor\n",
    "\n",
    "A multiplicação de uma matriz por um vetor é\n",
    "\n",
    "$$\n",
    "\\begin{bmatrix}\n",
    "a & b  \\\\\n",
    "c & d  \\\\\n",
    "\\end{bmatrix} \n",
    "\\begin{bmatrix}\n",
    "e \\\\\n",
    "f \\\\\n",
    "\\end{bmatrix} =\n",
    "\\begin{bmatrix}\n",
    "ae + bf \\\\\n",
    "ce + df \\\\\n",
    "\\end{bmatrix}\n",
    "$$\n",
    "\n",
    "Sendo o vetor $\\mathbf{u} = \\mathbf{A}\\mathbf{v}$, cada elemento $i$ de $\\mathbf{u}$ é \n",
    "\n",
    "\n",
    "$$\n",
    "u_i = \\sum\\limits_{k=1}^{N} A_{ik}v_k\n",
    "$$"
   ]
  },
  {
   "cell_type": "markdown",
   "metadata": {},
   "source": [
    "## Tarefa\n",
    "\n",
    "Faça a multiplicação da matriz pelo vetor definidos abaixo. Guarde o resultado em uma lista.\n",
    "\n",
    "**Dicas**"
   ]
  },
  {
   "cell_type": "code",
   "execution_count": 11,
   "metadata": {
    "collapsed": true
   },
   "outputs": [],
   "source": [
    "A = [[1, 2, 3, 4],\n",
    "     [4, 5, 6, 7],\n",
    "     [7, 8, 9, 10]]\n",
    "v = [12, 13, 14, 15]\n",
    "nlin = 3\n",
    "ncol = 4"
   ]
  },
  {
   "cell_type": "code",
   "execution_count": 26,
   "metadata": {
    "collapsed": false
   },
   "outputs": [
    {
     "name": "stdout",
     "output_type": "stream",
     "text": [
      "[12]\n",
      "[12, 38]\n",
      "[12, 38, 80]\n",
      "[12, 38, 80, 140]\n",
      "[12, 38, 80, 140, 48]\n",
      "[12, 38, 80, 140, 48, 113]\n",
      "[12, 38, 80, 140, 48, 113, 197]\n",
      "[12, 38, 80, 140, 48, 113, 197, 302]\n",
      "[12, 38, 80, 140, 48, 113, 197, 302, 84]\n",
      "[12, 38, 80, 140, 48, 113, 197, 302, 84, 188]\n",
      "[12, 38, 80, 140, 48, 113, 197, 302, 84, 188, 314]\n",
      "[12, 38, 80, 140, 48, 113, 197, 302, 84, 188, 314, 464]\n"
     ]
    }
   ],
   "source": [
    "matriz_vetor = []\n",
    "for i in range (nlin):\n",
    "    multi_vet = 0\n",
    "    for j in range(ncol):\n",
    "        multi_vet = multi_vet + A[i][j] * v[j]\n",
    "        matriz_vetor.append(multi_vet)\n",
    "        print(matriz_vetor)       \n",
    "    "
   ]
  },
  {
   "cell_type": "code",
   "execution_count": null,
   "metadata": {
    "collapsed": false
   },
   "outputs": [],
   "source": []
  },
  {
   "cell_type": "markdown",
   "metadata": {},
   "source": [
    "### Resultado esperado\n",
    "\n",
    "O seu código deve imprimir exatamente:\n",
    "\n",
    "    [140, 302, 464]"
   ]
  },
  {
   "cell_type": "markdown",
   "metadata": {},
   "source": [
    "## Multiplicação de matrizes\n",
    "\n",
    "A multiplicação de matrizes é feita de forma diferente da soma. É mais fácil mostrar do que explicar:\n",
    "\n",
    "$$\n",
    "\\begin{bmatrix}\n",
    "a & b  \\\\\n",
    "c & d  \\\\\n",
    "\\end{bmatrix} \n",
    "\\begin{bmatrix}\n",
    "e & f \\\\\n",
    "g & h  \\\\\n",
    "\\end{bmatrix} =\n",
    "\\begin{bmatrix}\n",
    "ae + bg & af + bh  \\\\\n",
    "ce + dg & cf + dh  \\\\\n",
    "\\end{bmatrix}\n",
    "$$\n",
    "\n",
    "Sendo $\\mathbf{C} = \\mathbf{A}\\mathbf{B}$, cada elemento $ij$ de $\\mathbf{C}$ é \n",
    "\n",
    "\n",
    "$$\n",
    "C_{ij} = \\sum\\limits_{k=1}^{N} A_{ik}B_{kj}\n",
    "$$"
   ]
  },
  {
   "cell_type": "markdown",
   "metadata": {},
   "source": [
    "## Tarefa\n",
    "\n",
    "Faça a multiplicação das duas matrizes definidas abaixo. Guarde o resultado em uma matriz (lista de listas)."
   ]
  },
  {
   "cell_type": "code",
   "execution_count": null,
   "metadata": {
    "collapsed": true
   },
   "outputs": [],
   "source": [
    "A = [[1, 2, 3, 4],\n",
    "     [4, 5, 6, 7],\n",
    "     [7, 8, 9, 10]]\n",
    "B = [[3, 4, 5],\n",
    "     [6, 7, 8],\n",
    "     [9, 10, 11],\n",
    "     [12, 13, 14]]\n",
    "nlin_a = 3\n",
    "nlin_b = 4\n",
    "ncol_a = 4\n",
    "ncol_b = 3"
   ]
  },
  {
   "cell_type": "code",
   "execution_count": null,
   "metadata": {
    "collapsed": false
   },
   "outputs": [],
   "source": []
  },
  {
   "cell_type": "code",
   "execution_count": null,
   "metadata": {
    "collapsed": true
   },
   "outputs": [],
   "source": []
  },
  {
   "cell_type": "markdown",
   "metadata": {},
   "source": [
    "### Resultado esperado\n",
    "\n",
    "O seu código deve imprimir exatamente:\n",
    "\n",
    "    90  100  110  \n",
    "    180  202  224  \n",
    "    270  304  338  \n",
    "\n"
   ]
  },
  {
   "cell_type": "markdown",
   "metadata": {},
   "source": [
    "## Tarefa Bônus\n",
    "\n",
    "Calcule o produto $\\mathbf{A}^T\\mathbf{A}$ para a matriz $A$ definida abaixo. $\\mathbf{A}^T$ é a matriz transposta de $A$:\n",
    "\n",
    "$$\n",
    "\\mathbf{A} = \n",
    "\\begin{bmatrix}\n",
    "a & b & c \\\\\n",
    "d & e & f \\\\\n",
    "\\end{bmatrix}\n",
    "$$\n",
    "\n",
    "$$\n",
    "\\mathbf{A}^T = \n",
    "\\begin{bmatrix}\n",
    "a & d \\\\\n",
    "b & e \\\\\n",
    "c & f \\\\\n",
    "\\end{bmatrix}\n",
    "$$\n",
    "\n",
    "Ou seja, as linhas de $\\mathbf{A}$ são as colunas de $\\mathbf{A}^T$.\n"
   ]
  },
  {
   "cell_type": "code",
   "execution_count": null,
   "metadata": {
    "collapsed": true
   },
   "outputs": [],
   "source": [
    "A = [[1, 2, 3, 4],\n",
    "     [4, 5, 6, 7],\n",
    "     [7, 8, 9, 10]]\n",
    "nlin = 3\n",
    "ncol = 4"
   ]
  },
  {
   "cell_type": "code",
   "execution_count": null,
   "metadata": {
    "collapsed": false
   },
   "outputs": [],
   "source": []
  },
  {
   "cell_type": "code",
   "execution_count": null,
   "metadata": {
    "collapsed": false
   },
   "outputs": [],
   "source": []
  },
  {
   "cell_type": "code",
   "execution_count": null,
   "metadata": {
    "collapsed": false
   },
   "outputs": [],
   "source": []
  },
  {
   "cell_type": "markdown",
   "metadata": {},
   "source": [
    "### Resultado esperado\n",
    "\n",
    "O seu código deve imprimir exatamente:\n",
    "\n",
    "    66  78  90  102  \n",
    "    78  93  108  123  \n",
    "    90  108  126  144  \n",
    "    102  123  144  165  \n"
   ]
  }
 ],
 "metadata": {
  "anaconda-cloud": {},
  "kernelspec": {
   "display_name": "Python [default]",
   "language": "python",
   "name": "python3"
  },
  "language_info": {
   "codemirror_mode": {
    "name": "ipython",
    "version": 3
   },
   "file_extension": ".py",
   "mimetype": "text/x-python",
   "name": "python",
   "nbconvert_exporter": "python",
   "pygments_lexer": "ipython3",
   "version": "3.5.2"
  }
 },
 "nbformat": 4,
 "nbformat_minor": 0
}
